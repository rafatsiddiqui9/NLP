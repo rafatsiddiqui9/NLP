{
 "cells": [
  {
   "cell_type": "code",
   "execution_count": 5,
   "id": "54e67e99-9523-4f80-b7d8-5e1d0ec58020",
   "metadata": {},
   "outputs": [],
   "source": [
    "import os\n",
    "os.environ['OPENAI_API_KEY'] = ''"
   ]
  },
  {
   "cell_type": "code",
   "execution_count": null,
   "id": "8a44cb6f-42c1-447b-a128-0006e5313f0d",
   "metadata": {
    "scrolled": true
   },
   "outputs": [],
   "source": [
    "pip install langchain"
   ]
  },
  {
   "cell_type": "code",
   "execution_count": null,
   "id": "380006e4-e7a0-461d-ac81-8aaa72567178",
   "metadata": {},
   "outputs": [],
   "source": [
    "pip install openai"
   ]
  },
  {
   "cell_type": "code",
   "execution_count": 6,
   "id": "ab1bf5ac-fcba-4ee9-854a-794e0020d2aa",
   "metadata": {
    "scrolled": true
   },
   "outputs": [],
   "source": [
    "from langchain.llms import OpenAI"
   ]
  },
  {
   "cell_type": "code",
   "execution_count": null,
   "id": "a46f59ae-835d-4bd1-a069-9cf15ac6d8df",
   "metadata": {},
   "outputs": [],
   "source": [
    "llm = OpenAI(temperature = 0.6)\n",
    "name = llm(\" I want to open a restaurant for Italian Food. Suggest a fancy name for this.\")\n",
    "print(name)"
   ]
  },
  {
   "cell_type": "code",
   "execution_count": null,
   "id": "24061ce9-f919-42b9-9731-78155f21da62",
   "metadata": {},
   "outputs": [],
   "source": [
    "from langchain.prompts import PromptTemplate\n",
    "\n",
    "prompt_template_name = PromptTemplate(\n",
    "    input_variables = ['cuisine'],\n",
    "    template = \"I want top open a resturant for {cuisine} food. Suggest a fancy name for this.\"\n",
    ")\n",
    "prompt_template_name.format(cuisine = \"Indian\")\n",
    "    "
   ]
  },
  {
   "cell_type": "code",
   "execution_count": null,
   "id": "931f9da4-2d6d-41a3-9a89-353113aa411c",
   "metadata": {},
   "outputs": [],
   "source": [
    "from langchain.chains import LLMChain\n",
    "\n",
    "chain = LLMChain(llm = llm, prompt = prompt_template_name)\n",
    "chain.run(\"Indian\")\n"
   ]
  },
  {
   "cell_type": "code",
   "execution_count": 40,
   "id": "eb9076ca-f1f3-4a55-ba16-01d97a3210fa",
   "metadata": {},
   "outputs": [],
   "source": [
    "from langchain.prompts import PromptTemplate\n",
    "\n",
    "prompt_template_name = PromptTemplate(\n",
    "    input_variables = ['cuisine'],\n",
    "    template = \"I want top open a resturant for {cuisine} food. Suggest a fancy name for this.\"\n",
    ")\n",
    "name_chain = LLMChain(llm = llm, prompt = prompt_template_name)\n",
    "\n",
    "prompt_template_items = prompt_template_name = PromptTemplate(\n",
    "    input_variables = ['restaurant_name'],\n",
    "    template = \" Suggest some menu items for {restaurant_name} food. Return it as a comma seperated list\"\n",
    ")\n",
    "\n",
    "food_items_chain = LLMChain(llm = llm, prompt = prompt_template_items)"
   ]
  },
  {
   "cell_type": "code",
   "execution_count": null,
   "id": "f6a5ffa5-bf34-4116-b175-274423b9114c",
   "metadata": {},
   "outputs": [],
   "source": [
    "from langchain.chains import SimpleSequentialChain\n",
    "\n",
    "chain = SimpleSequentialChain(chains = [name_chain, food_items_chain])\n",
    "response = chain.run(\"Indian\")\n",
    "print(response)"
   ]
  },
  {
   "cell_type": "code",
   "execution_count": 42,
   "id": "e3994517-0db0-4044-a27e-e09aca98ff56",
   "metadata": {},
   "outputs": [],
   "source": [
    "from langchain.chains import SequentialChain"
   ]
  },
  {
   "cell_type": "code",
   "execution_count": 44,
   "id": "a9fe72ac-a4e7-47e2-a529-efc062e94f48",
   "metadata": {},
   "outputs": [],
   "source": [
    "llm = OpenAI(temperature = 0.7)\n",
    "\n",
    "prompt_template_name = PromptTemplate(\n",
    "    input_variables = ['cuisine'],\n",
    "    template = \"I want top open a resturant for {cuisine} food. Suggest a fancy name for this.\"\n",
    ")\n",
    "name_chain = LLMChain(llm = llm, prompt = prompt_template_name, output_key = \"restaurant_name\")\n",
    "\n",
    "prompt_template_items = prompt_template_name = PromptTemplate(\n",
    "    input_variables = ['restaurant_name'],\n",
    "    template = \" Suggest some menu items for {restaurant_name} food. Return it as a comma seperated list\"\n",
    ")\n",
    "\n",
    "food_items_chain = LLMChain(llm = llm, prompt = prompt_template_items, output_key = \"menu_items\")"
   ]
  },
  {
   "cell_type": "code",
   "execution_count": null,
   "id": "6fc8fb9c-7d71-4491-8854-d0f862ad32eb",
   "metadata": {},
   "outputs": [],
   "source": [
    "from langchain.chains import SequentialChain\n",
    "\n",
    "chain = SequentialChain(\n",
    "    chains = [name_chain, food_items_chain],\n",
    "    input_variables = ['cuisine'],\n",
    "    output_variables = ['restaurant_name', 'menu_items']\n",
    ")\n",
    "\n",
    "chain({'cuisine':'Indian'})"
   ]
  },
  {
   "cell_type": "code",
   "execution_count": null,
   "id": "851e316e-c7ff-4a74-a22c-a535ddb100eb",
   "metadata": {},
   "outputs": [],
   "source": [
    "llm = OpenAI(temperature = 0.7)\n",
    "\n",
    "prompt_template_name = PromptTemplate(\n",
    "    input_variables = ['cuisine'],\n",
    "    template = \"I want top open a resturant for {cuisine} food. Suggest a fancy name for this.\"\n",
    ")\n",
    "name_chain = LLMChain(llm = llm, prompt = prompt_template_name, output_key = \"restaurant_name\")\n",
    "\n",
    "prompt_template_items = prompt_template_name = PromptTemplate(\n",
    "    input_variables = ['restaurant_name'],\n",
    "    template = \" Suggest some menu items for {restaurant_name} food. Return it as a comma seperated list\"\n",
    ")\n",
    "\n",
    "food_items_chain = LLMChain(llm = llm, prompt = prompt_template_items, output_key = \"menu_items\")"
   ]
  },
  {
   "cell_type": "markdown",
   "id": "4c0ccea2-e484-4188-9ed3-86a57cbc95ab",
   "metadata": {},
   "source": [
    "# Tools and Agents"
   ]
  },
  {
   "cell_type": "code",
   "execution_count": 7,
   "id": "ec963814-bf77-4831-9a6e-49eda49f9ba3",
   "metadata": {},
   "outputs": [],
   "source": [
    "from langchain.agents import AgentType, initialize_agent, load_tools\n",
    "from langchain.llms import OpenAI"
   ]
  },
  {
   "cell_type": "code",
   "execution_count": null,
   "id": "796fc6e1-32dd-4076-b6be-d3aba01c8a2c",
   "metadata": {},
   "outputs": [],
   "source": [
    "pip install wikipedia"
   ]
  },
  {
   "cell_type": "code",
   "execution_count": null,
   "id": "21a335f7-6983-41f2-9a76-ae25e24284e9",
   "metadata": {},
   "outputs": [],
   "source": [
    "llm = OpenAI(temperature = 1.0)\n",
    "tools = load_tools([\"wikipedia\", \"llm-math\"], llm = llm)\n",
    "\n",
    "agent = initialize_agent(tools, llm, agent = AgentType.ZERO_SHOT_REACT_DESCRIPTION,\n",
    "                         verbose = True)\n",
    "\n",
    "agent.run(\"When was Elon Musk born? What is his age right now in 2023?\")"
   ]
  },
  {
   "cell_type": "code",
   "execution_count": 11,
   "id": "51a77489-43a9-4258-a91a-2ed96f48169f",
   "metadata": {},
   "outputs": [],
   "source": [
    "os.environ['SERPAPI_API_KEY'] = ''"
   ]
  },
  {
   "cell_type": "code",
   "execution_count": null,
   "id": "0ab1ed51-35e7-4537-94f1-37c69a1abb56",
   "metadata": {},
   "outputs": [],
   "source": [
    "pip install google-search-results"
   ]
  },
  {
   "cell_type": "code",
   "execution_count": null,
   "id": "939f8b65-9b86-4df8-8870-b24540bf22b8",
   "metadata": {},
   "outputs": [],
   "source": [
    "llm = OpenAI(temperature = 1.0)\n",
    "tools = load_tools([\"serpapi\", \"llm-math\"], llm = llm)\n",
    "\n",
    "agent = initialize_agent(tools, llm, agent = AgentType.ZERO_SHOT_REACT_DESCRIPTION,\n",
    "                         verbose = True)\n",
    "\n",
    "agent.run(\"what is the GDP of India in 2022 plus 5\")"
   ]
  },
  {
   "cell_type": "code",
   "execution_count": null,
   "id": "6de311ff-ddab-47dc-bdaf-d1ae400dca8c",
   "metadata": {},
   "outputs": [],
   "source": [
    "from langchain.prompts import PromptTemplate\n",
    "\n",
    "prompt_template_name = PromptTemplate(\n",
    "    input_variables = ['cuisine'],\n",
    "    template = \"I want top open a resturant for {cuisine} food. Suggest a fancy name for this.\"\n",
    ")\n",
    "name_chain = LLMChain(llm = llm, prompt = prompt_template_name)\n",
    "\n",
    "prompt_template_items = prompt_template_name = PromptTemplate(\n",
    "    input_variables = ['restaurant_name'],\n",
    "    template = \" Suggest some menu items for {restaurant_name} food. Return it as a comma seperated list\"\n",
    ")\n",
    "\n",
    "food_items_chain = LLMChain(llm = llm, prompt = prompt_template_items)"
   ]
  },
  {
   "cell_type": "code",
   "execution_count": null,
   "id": "3280fb2b-0ab7-4c1c-b6f0-5907f700c223",
   "metadata": {},
   "outputs": [],
   "source": [
    "from langchain.chains import LLMChain\n",
    "from langchain.memory import ConversationBufferMemory\n",
    "from langchain.prompts import PromptTemplate\n",
    "\n",
    "prompt_template_name = PromptTemplate(\n",
    "    input_variables = ['cuisine'],\n",
    "    template = \"I want top open a resturant for {cuisine} food. Suggest a fancy name for this.\"\n",
    ")\n",
    "\n",
    "memory = ConversationBufferMemory()\n",
    "\n",
    "chain = LLMChain(llm = llm, prompt = prompt_template_name, memory = memory)\n",
    "name = chain.run(\"Mexican\")\n",
    "print(name)"
   ]
  },
  {
   "cell_type": "code",
   "execution_count": null,
   "id": "cd3d0211-e10a-4146-994b-1dda852886fa",
   "metadata": {},
   "outputs": [],
   "source": [
    "name = chain.run(\"Indian\")\n",
    "print(name)"
   ]
  },
  {
   "cell_type": "code",
   "execution_count": null,
   "id": "8201f380-fa4c-49bc-b056-1c84e4b208cc",
   "metadata": {},
   "outputs": [],
   "source": [
    "chain.memory"
   ]
  },
  {
   "cell_type": "code",
   "execution_count": null,
   "id": "ebc4218c-4100-4e5d-b724-780d58f62033",
   "metadata": {},
   "outputs": [],
   "source": [
    "print(chain.memory.buffer)"
   ]
  },
  {
   "cell_type": "code",
   "execution_count": null,
   "id": "cae3561b-c139-4eaa-8125-cce55a17e758",
   "metadata": {},
   "outputs": [],
   "source": [
    "from langchain.chains import ConversationChain\n",
    "\n",
    "convo = ConversationChain(llm = OpenAI(temperature = 0.5))\n",
    "print(convo.prompt.template)"
   ]
  },
  {
   "cell_type": "code",
   "execution_count": null,
   "id": "803aa605-4a1a-429b-84c6-321660d92914",
   "metadata": {},
   "outputs": [],
   "source": [
    "convo.run(\"Who won 1971 Cricket World Cup\")"
   ]
  },
  {
   "cell_type": "code",
   "execution_count": null,
   "id": "81ac13d0-973d-44f8-967b-30dd62c19050",
   "metadata": {},
   "outputs": [],
   "source": [
    "convo.run(\"What is 5+5\")"
   ]
  },
  {
   "cell_type": "code",
   "execution_count": null,
   "id": "6d6ca017-61ad-47aa-88f8-de895916862d",
   "metadata": {},
   "outputs": [],
   "source": [
    "convo.run(\"Who was the captain of the winning team\")"
   ]
  },
  {
   "cell_type": "code",
   "execution_count": null,
   "id": "9206ae98-2e75-4477-bebc-2abf887fd6e2",
   "metadata": {},
   "outputs": [],
   "source": [
    "from langchain.memory import ConversationBufferWindowMemory\n",
    "\n",
    "memory = ConversationBufferWindowMemory(k=1)\n",
    "convo = ConversationChain(llm = OpenAI(temperature = 0.5), memory = memory)\n",
    "convo.run(\"Who won 1971 Cricket World Cup\")"
   ]
  },
  {
   "cell_type": "code",
   "execution_count": null,
   "id": "5f15a3b1-a553-4a72-b8e4-ef86e3110eb4",
   "metadata": {},
   "outputs": [],
   "source": [
    "convo.run(\"What is 5+5\")"
   ]
  },
  {
   "cell_type": "code",
   "execution_count": null,
   "id": "756adb73-7a87-414e-a6ed-f039b2d13392",
   "metadata": {},
   "outputs": [],
   "source": [
    "convo.run(\"Who was the captain of the winning team\")"
   ]
  },
  {
   "cell_type": "code",
   "execution_count": null,
   "id": "f8966b30-4e9f-4e7b-b57b-11c933dc0a57",
   "metadata": {},
   "outputs": [],
   "source": []
  },
  {
   "cell_type": "code",
   "execution_count": null,
   "id": "f4c3d292-54cf-45c5-82b4-6a1b4b796761",
   "metadata": {},
   "outputs": [],
   "source": []
  },
  {
   "cell_type": "code",
   "execution_count": null,
   "id": "e13ed6e0-4f7b-49ee-9b3e-03a9819b1997",
   "metadata": {},
   "outputs": [],
   "source": []
  },
  {
   "cell_type": "code",
   "execution_count": null,
   "id": "b9336a4f-767f-4a2a-9ab5-c7ae4e5df8db",
   "metadata": {
    "scrolled": true
   },
   "outputs": [],
   "source": []
  }
 ],
 "metadata": {
  "kernelspec": {
   "display_name": "Python 3",
   "language": "python",
   "name": "python3"
  },
  "language_info": {
   "codemirror_mode": {
    "name": "ipython",
    "version": 3
   },
   "file_extension": ".py",
   "mimetype": "text/x-python",
   "name": "python",
   "nbconvert_exporter": "python",
   "pygments_lexer": "ipython3",
   "version": "3.12.1"
  }
 },
 "nbformat": 4,
 "nbformat_minor": 5
}
